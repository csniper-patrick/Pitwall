{
  "cells": [
    {
      "cell_type": "code",
      "execution_count": null,
      "metadata": {
        "id": "0TgsOWQlQP5I"
      },
      "outputs": [],
      "source": [
        "%pip install fastf1 --quiet\n",
        "import matplotlib.pyplot as plt\n",
        "import matplotlib.style as style\n",
        "import numpy as np\n",
        "import matplotlib.pyplot as plt\n",
        "\n",
        "import fastf1.plotting\n",
        "\n",
        "\n",
        "# Load FastF1's dark color scheme\n",
        "fastf1.plotting.setup_mpl(mpl_timedelta_support=False, misc_mpl_mods=False,color_scheme='fastf1')\n",
        "import fastf1\n",
        "\n",
        "# style.use('dark_background')"
      ]
    },
    {
      "cell_type": "code",
      "execution_count": null,
      "metadata": {
        "id": "T3SaHiI2jMBi"
      },
      "outputs": [],
      "source": [
        "def rotate(xy, *, angle):\n",
        "    rot_mat = np.array([[np.cos(angle), np.sin(angle)],\n",
        "                        [-np.sin(angle), np.cos(angle)]])\n",
        "    return np.matmul(xy, rot_mat)\n",
        "\n",
        "def plot_track(session, plot_sector=False):\n",
        "    lap = session.laps.pick_fastest()\n",
        "    tel = lap.get_telemetry()\n",
        "    tel[\"Sector\"] = tel['RelativeDistance'].apply( lambda rel_dist: int( np.floor( rel_dist * 3 ) ) )\n",
        "\n",
        "    # pos = lap.get_pos_data()\n",
        "\n",
        "    # create new figure and axes\n",
        "    fig, ax = plt.subplots()\n",
        "\n",
        "    circuit_info = session.get_circuit_info()\n",
        "    # Get an array of shape [n, 2] where n is the number of points and the second\n",
        "    # axis is x and y.\n",
        "\n",
        "    sector_color=['red', 'deepskyblue', 'yellow']\n",
        "\n",
        "    if plot_sector:\n",
        "        for sector in range(3):\n",
        "            track = tel.loc[ tel[\"Sector\"] == sector , ('X', 'Y')].to_numpy()\n",
        "\n",
        "            # Convert the rotation angle from degrees to radian.\n",
        "            track_angle = circuit_info.rotation / 180 * np.pi\n",
        "\n",
        "            # Rotate and plot the track map.\n",
        "            rotated_track = rotate(track, angle=track_angle)\n",
        "            ax.plot(rotated_track[:, 0], rotated_track[:, 1], color=sector_color[sector], markersize=10, linewidth=5)\n",
        "    else:\n",
        "        track = tel.loc[:, ('X', 'Y')].to_numpy()\n",
        "\n",
        "        # Convert the rotation angle from degrees to radian.\n",
        "        track_angle = circuit_info.rotation / 180 * np.pi\n",
        "\n",
        "        # Rotate and plot the track map.\n",
        "        rotated_track = rotate(track, angle=track_angle)\n",
        "        ax.plot(rotated_track[:, 0], rotated_track[:, 1], color='cyan', markersize=10, linewidth=5)\n",
        "\n",
        "\n",
        "    offset_vector = [500, 0]  # offset length is chosen arbitrarily to 'look good'\n",
        "\n",
        "    # Iterate over all corners.\n",
        "    for _, corner in circuit_info.corners.iterrows():\n",
        "        # Create a string from corner number and letter\n",
        "        txt = f\"{corner['Number']}{corner['Letter']}\"\n",
        "\n",
        "        # Convert the angle from degrees to radian.\n",
        "        offset_angle = corner['Angle'] / 180 * np.pi\n",
        "\n",
        "        # Rotate the offset vector so that it points sideways from the track.\n",
        "        offset_x, offset_y = rotate(offset_vector, angle=offset_angle)\n",
        "\n",
        "        # Add the offset to the position of the corner\n",
        "        text_x = corner['X'] + offset_x\n",
        "        text_y = corner['Y'] + offset_y\n",
        "\n",
        "        # Rotate the text position equivalently to the rest of the track map\n",
        "        text_x, text_y = rotate([text_x, text_y], angle=track_angle)\n",
        "\n",
        "        # Rotate the center of the corner equivalently to the rest of the track map\n",
        "        track_x, track_y = rotate([corner['X'], corner['Y']], angle=track_angle)\n",
        "\n",
        "        # Draw a circle next to the track.\n",
        "        ax.scatter(text_x, text_y, color='white', s=140)\n",
        "\n",
        "        # Draw a line from the track to this circle.\n",
        "        ax.plot([track_x, text_x], [track_y, text_y], color='white')\n",
        "\n",
        "        # Finally, print the corner number inside the circle.\n",
        "        ax.text(text_x, text_y, txt, va='center_baseline', ha='center', size='small', color='black')\n",
        "\n",
        "    ax.set_title(session.event['Location'])\n",
        "    ax.set_xticks([])\n",
        "    ax.set_yticks([])\n",
        "    ax.set_frame_on(False)\n",
        "    ax.axis('equal')\n",
        "    fig.tight_layout()\n",
        "    # plt.show()\n",
        "    return fig, ax"
      ]
    },
    {
      "cell_type": "code",
      "execution_count": null,
      "metadata": {
        "id": "spgyGqfUSI1A"
      },
      "outputs": [],
      "source": [
        "!mkdir -pv tracks"
      ]
    },
    {
      "cell_type": "code",
      "execution_count": null,
      "metadata": {
        "id": "fbAU-g32jRNS"
      },
      "outputs": [],
      "source": [
        "saved_track = set()\n",
        "\n",
        "for year in range(2024, 2010, -1):\n",
        "    try:\n",
        "        season_schedule = fastf1.get_event_schedule(year, include_testing=False)\n",
        "    except:\n",
        "        continue\n",
        "    for location in season_schedule['Location'].to_list():\n",
        "        if location in saved_track:\n",
        "            continue\n",
        "        try:\n",
        "            session = fastf1.get_session(year, location, 'Q')\n",
        "            session.load()\n",
        "            fig, ax = plot_track(session)\n",
        "            # fig.show()\n",
        "            fig.savefig(f\"tracks/{location}.png\", format='png', dpi=600, bbox_inches='tight')\n",
        "            saved_track.add(location)\n",
        "            plt.close(fig)\n",
        "        except:\n",
        "            continue"
      ]
    },
    {
      "cell_type": "code",
      "execution_count": null,
      "metadata": {
        "id": "CBeR7B6QSnqF"
      },
      "outputs": [],
      "source": [
        "! zip -r tracks.zip tracks/"
      ]
    }
  ],
  "metadata": {
    "colab": {
      "private_outputs": true,
      "provenance": []
    },
    "kernelspec": {
      "display_name": "Python 3",
      "name": "python3"
    },
    "language_info": {
      "name": "python"
    }
  },
  "nbformat": 4,
  "nbformat_minor": 0
}
