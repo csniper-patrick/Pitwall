{
  "nbformat": 4,
  "nbformat_minor": 0,
  "metadata": {
    "colab": {
      "provenance": []
    },
    "kernelspec": {
      "name": "python3",
      "display_name": "Python 3"
    },
    "language_info": {
      "name": "python"
    }
  },
  "cells": [
    {
      "cell_type": "markdown",
      "source": [
        "Import necessary libraries"
      ],
      "metadata": {
        "id": "nwl6kOVEFdqx"
      }
    },
    {
      "cell_type": "code",
      "execution_count": null,
      "metadata": {
        "id": "oNFTihJ5KcQf"
      },
      "outputs": [],
      "source": [
        "import requests\n",
        "import json\n",
        "import numpy as np\n",
        "from collections import defaultdict\n",
        "base_url = \"https://livetiming.formula1.com/static/\""
      ]
    },
    {
      "cell_type": "code",
      "source": [
        "season_urls = [\n",
        "    \"2024/Index.json\",\n",
        "    \"2023/Index.json\",\n",
        "    \"2022/Index.json\",\n",
        "    \"2021/Index.json\",\n",
        "    \"2020/Index.json\",\n",
        "    \"2019/Index.json\",\n",
        "    \"2018/Index.json\"\n",
        "]\n",
        "\n",
        "sessions_by_circuit=defaultdict(list)\n",
        "\n",
        "for season in season_urls:\n",
        "    try:\n",
        "        response = requests.get(f\"{base_url}{season}\")\n",
        "        response.raise_for_status()\n",
        "        season_data = json.loads(response.content.decode(\"utf-8-sig\"))\n",
        "        # print(json.dumps(season_data, indent=2))\n",
        "        for meeting in season_data[\"Meetings\"]:\n",
        "            # print(json.dumps(meeting, indent=2))\n",
        "            race_sessions=list(filter(lambda session: session[\"Type\"] == \"Race\" and \"Path\" in session, meeting[\"Sessions\"]))\n",
        "            race_sessions_path=list(\n",
        "                map(\n",
        "                    lambda session: session[\"Path\"]\n",
        "                    , race_sessions\n",
        "                )\n",
        "            )\n",
        "\n",
        "            circuit = meeting[\"Circuit\"][\"ShortName\"]\n",
        "            # print(json.dumps(race_sessions_path, indent=2))\n",
        "            sessions_by_circuit[circuit].extend(race_sessions_path)\n",
        "    except:\n",
        "        continue\n",
        "\n",
        "# pitstopseries_by_circuit=defaultdict(list)\n",
        "pitlanetimecollection_by_circuit=defaultdict(list)\n",
        "# select only those sessions where channel PitStopSeries is available\n",
        "for circuit, sessions in sessions_by_circuit.items():\n",
        "    for session in sessions:\n",
        "        try:\n",
        "            response = requests.get(f\"{base_url}{session}Index.json\")\n",
        "            response.raise_for_status()\n",
        "            data = json.loads(response.content.decode(\"utf-8-sig\"))\n",
        "\n",
        "            if \"PitLaneTimeCollection\" not in data['Feeds']:\n",
        "                continue\n",
        "            stream_path=f\"{base_url}{session}{data['Feeds']['PitLaneTimeCollection']['StreamPath']}\"\n",
        "            response = requests.get(f\"{base_url}{session}{data['Feeds']['PitLaneTimeCollection']['StreamPath']}\")\n",
        "            response.raise_for_status()\n",
        "            stream_file = response.content.decode(\"utf-8-sig\").split('\\r\\n')\n",
        "            stream = list(map( lambda a : a[12:], stream_file ))\n",
        "            # stream = list(filter( lambda a : '_deleted' not in a, stream ))\n",
        "            stream = list(filter( lambda a : a != '', stream ))\n",
        "            stream = list(map( lambda a : json.loads(a), stream ))\n",
        "            for data in stream:\n",
        "                for key, value in data[\"PitTimes\"].items():\n",
        "                    if key != \"_deleted\":\n",
        "                        pitlanetimecollection_by_circuit[circuit].append(value)\n",
        "            # print(json.dumps(stream))\n",
        "        except:\n",
        "            continue\n",
        "    pitlanetimecollection_by_circuit[circuit] = list( filter( lambda a : a[\"Duration\"].replace('.', '', 1).isdigit(), pitlanetimecollection_by_circuit[circuit] ) )\n",
        "    pitlanetimecollection_by_circuit[circuit] = list( map( lambda a : float(a[\"Duration\"]), pitlanetimecollection_by_circuit[circuit] ) )\n",
        "\n",
        "pitlanetimecollection_by_circuit=dict(filter(lambda item: len(item[1]) > 0, pitlanetimecollection_by_circuit.items()))"
      ],
      "metadata": {
        "id": "-wGi7c8aNTAC"
      },
      "execution_count": null,
      "outputs": []
    },
    {
      "cell_type": "markdown",
      "source": [
        "calculate mean and sd"
      ],
      "metadata": {
        "id": "bk59I9lXbPQ1"
      }
    },
    {
      "cell_type": "code",
      "source": [
        "circuit_pit_stat={}\n",
        "for circuit, values in pitlanetimecollection_by_circuit.items():\n",
        "    stats = np.array(values)\n",
        "    normal_stats = stats[stats < 60]\n",
        "    mean = np.around(np.mean(normal_stats), decimals=3)\n",
        "    std = np.around(np.std(normal_stats), decimals=3)\n",
        "    circuit_pit_stat[circuit]=dict(mean=mean, std=std)\n",
        "    # print(circuit, mean, std,  stats[ stats > (mean + 5) ] )\n",
        "with open('pit-time-stat.json', 'w') as json_file:\n",
        "    json.dump(circuit_pit_stat, json_file, indent=2)\n",
        "circuit_pit_stat"
      ],
      "metadata": {
        "colab": {
          "base_uri": "https://localhost:8080/"
        },
        "id": "QOelKJQLbX1P",
        "outputId": "877c3c69-8ecb-4c38-8577-5b453fb53989"
      },
      "execution_count": null,
      "outputs": [
        {
          "output_type": "execute_result",
          "data": {
            "text/plain": [
              "{'Catalunya': {'mean': 22.905, 'std': 3.032},\n",
              " 'Spielberg': {'mean': 22.218, 'std': 3.497},\n",
              " 'Silverstone': {'mean': 29.603, 'std': 2.512},\n",
              " 'Hungaroring': {'mean': 23.754, 'std': 4.647},\n",
              " 'Spa-Francorchamps': {'mean': 23.992, 'std': 3.637},\n",
              " 'Zandvoort': {'mean': 22.58, 'std': 5.379},\n",
              " 'Monza': {'mean': 26.001, 'std': 3.346},\n",
              " 'Baku': {'mean': 19.774, 'std': 2.271},\n",
              " 'Singapore': {'mean': 30.807, 'std': 3.553},\n",
              " 'Austin': {'mean': 24.937, 'std': 2.816},\n",
              " 'Mexico City': {'mean': 23.595, 'std': 3.413},\n",
              " 'Interlagos': {'mean': 23.176, 'std': 4.383},\n",
              " 'Las Vegas': {'mean': 22.52, 'std': 3.708},\n",
              " 'Lusail': {'mean': 29.303, 'std': 4.164},\n",
              " 'Yas Marina Circuit': {'mean': 22.602, 'std': 2.802},\n",
              " 'Sakhir': {'mean': 25.806, 'std': 3.363},\n",
              " 'Jeddah': {'mean': 23.3, 'std': 4.197},\n",
              " 'Melbourne': {'mean': 23.545, 'std': 3.578},\n",
              " 'Monte Carlo': {'mean': 24.819, 'std': 1.915},\n",
              " 'Montreal': {'mean': 24.491, 'std': 2.082},\n",
              " 'Suzuka': {'mean': 26.63, 'std': 7.611},\n",
              " 'Imola': {'mean': 33.888, 'std': 7.462},\n",
              " 'Algarve International Circuit': {'mean': 25.136, 'std': 3.455},\n",
              " 'Paul Ricard': {'mean': 30.8, 'std': 1.497},\n",
              " 'Sochi': {'mean': 31.01, 'std': 2.604},\n",
              " 'Istanbul': {'mean': 24.684, 'std': 3.066},\n",
              " 'Losail': {'mean': 26.373, 'std': 2.515},\n",
              " 'Mugello': {'mean': 22.234, 'std': 4.063},\n",
              " 'Nürburgring': {'mean': 23.424, 'std': 2.256},\n",
              " 'Sakhir Outer Track': {'mean': 26.159, 'std': 5.07},\n",
              " 'Shanghai': {'mean': 25.643, 'std': 6.789},\n",
              " 'Hockenheim': {'mean': 21.421, 'std': 2.026}}"
            ]
          },
          "metadata": {},
          "execution_count": 7
        }
      ]
    }
  ]
}