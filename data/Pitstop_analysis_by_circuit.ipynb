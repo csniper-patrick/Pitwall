{
  "cells": [
    {
      "cell_type": "markdown",
      "metadata": {
        "id": "nwl6kOVEFdqx"
      },
      "source": [
        "Import necessary libraries"
      ]
    },
    {
      "cell_type": "code",
      "execution_count": null,
      "metadata": {
        "id": "oNFTihJ5KcQf"
      },
      "outputs": [],
      "source": [
        "import requests\n",
        "import json\n",
        "import numpy as np\n",
        "from collections import defaultdict\n",
        "base_url = \"https://livetiming.formula1.com/static/\""
      ]
    },
    {
      "cell_type": "code",
      "execution_count": null,
      "metadata": {
        "id": "-wGi7c8aNTAC"
      },
      "outputs": [],
      "source": [
        "season_urls = [\n",
        "    \"2024/Index.json\",\n",
        "    \"2023/Index.json\",\n",
        "    \"2022/Index.json\",\n",
        "    \"2021/Index.json\",\n",
        "    \"2020/Index.json\",\n",
        "    \"2019/Index.json\",\n",
        "    \"2018/Index.json\"\n",
        "]\n",
        "\n",
        "sessions_by_circuit=defaultdict(list)\n",
        "\n",
        "for season in season_urls:\n",
        "    try:\n",
        "        response = requests.get(f\"{base_url}{season}\")\n",
        "        response.raise_for_status()\n",
        "        season_data = json.loads(response.content.decode(\"utf-8-sig\"))\n",
        "        # print(json.dumps(season_data, indent=2))\n",
        "        for meeting in season_data[\"Meetings\"]:\n",
        "            # print(json.dumps(meeting, indent=2))\n",
        "            race_sessions=list(filter(lambda session: session[\"Type\"] == \"Race\" and \"Path\" in session, meeting[\"Sessions\"]))\n",
        "            race_sessions_path=list(\n",
        "                map(\n",
        "                    lambda session: session[\"Path\"]\n",
        "                    , race_sessions\n",
        "                )\n",
        "            )\n",
        "\n",
        "            circuit = meeting[\"Circuit\"][\"ShortName\"]\n",
        "            # print(json.dumps(race_sessions_path, indent=2))\n",
        "            sessions_by_circuit[circuit].extend(race_sessions_path)\n",
        "    except:\n",
        "        continue\n",
        "\n",
        "# pitstopseries_by_circuit=defaultdict(list)\n",
        "pitlanetimecollection_by_circuit=defaultdict(list)\n",
        "# select only those sessions where channel PitStopSeries is available\n",
        "for circuit, sessions in sessions_by_circuit.items():\n",
        "    for session in sessions:\n",
        "        try:\n",
        "            response = requests.get(f\"{base_url}{session}Index.json\")\n",
        "            response.raise_for_status()\n",
        "            data = json.loads(response.content.decode(\"utf-8-sig\"))\n",
        "\n",
        "            if \"PitLaneTimeCollection\" not in data['Feeds']:\n",
        "                continue\n",
        "            stream_path=f\"{base_url}{session}{data['Feeds']['PitLaneTimeCollection']['StreamPath']}\"\n",
        "            response = requests.get(f\"{base_url}{session}{data['Feeds']['PitLaneTimeCollection']['StreamPath']}\")\n",
        "            response.raise_for_status()\n",
        "            stream_file = response.content.decode(\"utf-8-sig\").split('\\r\\n')\n",
        "            stream = list(map( lambda a : a[12:], stream_file ))\n",
        "            # stream = list(filter( lambda a : '_deleted' not in a, stream ))\n",
        "            stream = list(filter( lambda a : a != '', stream ))\n",
        "            stream = list(map( lambda a : json.loads(a), stream ))\n",
        "            for data in stream:\n",
        "                for key, value in data[\"PitTimes\"].items():\n",
        "                    if key != \"_deleted\":\n",
        "                        pitlanetimecollection_by_circuit[circuit].append(value)\n",
        "            # print(json.dumps(stream))\n",
        "        except:\n",
        "            continue\n",
        "    pitlanetimecollection_by_circuit[circuit] = list( filter( lambda a : a[\"Duration\"].replace('.', '', 1).isdigit(), pitlanetimecollection_by_circuit[circuit] ) )\n",
        "    pitlanetimecollection_by_circuit[circuit] = list( map( lambda a : float(a[\"Duration\"]), pitlanetimecollection_by_circuit[circuit] ) )\n",
        "\n",
        "pitlanetimecollection_by_circuit=dict(filter(lambda item: len(item[1]) > 0, pitlanetimecollection_by_circuit.items()))"
      ]
    },
    {
      "cell_type": "markdown",
      "metadata": {
        "id": "bk59I9lXbPQ1"
      },
      "source": [
        "calculate mean and sd"
      ]
    },
    {
      "cell_type": "code",
      "execution_count": null,
      "metadata": {
        "colab": {
          "base_uri": "https://localhost:8080/"
        },
        "id": "QOelKJQLbX1P",
        "outputId": "877c3c69-8ecb-4c38-8577-5b453fb53989"
      },
      "outputs": [],
      "source": [
        "circuit_pit_stat={}\n",
        "for circuit, values in pitlanetimecollection_by_circuit.items():\n",
        "    stats = np.array(values)\n",
        "    normal_stats = stats[stats < 60]\n",
        "    mean = np.around(np.mean(normal_stats), decimals=3)\n",
        "    std = np.around(np.std(normal_stats), decimals=3)\n",
        "    circuit_pit_stat[circuit]=dict(mean=mean, std=std)\n",
        "    # print(circuit, mean, std,  stats[ stats > (mean + 5) ] )\n",
        "with open('pit-time-stat.json', 'w') as json_file:\n",
        "    json.dump(circuit_pit_stat, json_file, indent=2)\n",
        "circuit_pit_stat"
      ]
    }
  ],
  "metadata": {
    "colab": {
      "provenance": []
    },
    "kernelspec": {
      "display_name": "Python 3",
      "name": "python3"
    },
    "language_info": {
      "name": "python"
    }
  },
  "nbformat": 4,
  "nbformat_minor": 0
}
